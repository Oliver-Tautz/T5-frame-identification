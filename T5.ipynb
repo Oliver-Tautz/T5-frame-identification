{
 "cells": [
  {
   "cell_type": "code",
   "execution_count": 1,
   "id": "5514df77",
   "metadata": {
    "id": "5514df77",
    "outputId": "55103996-464a-4c22-f7b5-a93b83ecab04"
   },
   "outputs": [
    {
     "name": "stderr",
     "output_type": "stream",
     "text": [
      "2021-08-24 14:19:55.091070: W tensorflow/stream_executor/platform/default/dso_loader.cc:64] Could not load dynamic library 'libcudart.so.11.0'; dlerror: libcudart.so.11.0: cannot open shared object file: No such file or directory\n",
      "2021-08-24 14:19:55.091092: I tensorflow/stream_executor/cuda/cudart_stub.cc:29] Ignore above cudart dlerror if you do not have a GPU set up on your machine.\n"
     ]
    },
    {
     "ename": "ModuleNotFoundError",
     "evalue": "No module named 'mockup'",
     "output_type": "error",
     "traceback": [
      "\u001b[0;31m---------------------------------------------------------------------------\u001b[0m",
      "\u001b[0;31mModuleNotFoundError\u001b[0m                       Traceback (most recent call last)",
      "\u001b[0;32m/tmp/ipykernel_113825/2385121759.py\u001b[0m in \u001b[0;36m<module>\u001b[0;34m\u001b[0m\n\u001b[1;32m      9\u001b[0m     TFTrainer, TFTrainingArguments, TFT5ForConditionalGeneration, T5Config)\n\u001b[1;32m     10\u001b[0m \u001b[0;34m\u001b[0m\u001b[0m\n\u001b[0;32m---> 11\u001b[0;31m \u001b[0;32mfrom\u001b[0m \u001b[0mmockup\u001b[0m \u001b[0;32mimport\u001b[0m \u001b[0mArgument\u001b[0m\u001b[0;34m\u001b[0m\u001b[0;34m\u001b[0m\u001b[0m\n\u001b[0m\u001b[1;32m     12\u001b[0m \u001b[0;32mfrom\u001b[0m \u001b[0mtransformers\u001b[0m \u001b[0;32mimport\u001b[0m \u001b[0mAutoTokenizer\u001b[0m\u001b[0;34m,\u001b[0m \u001b[0mAutoModelWithLMHead\u001b[0m\u001b[0;34m\u001b[0m\u001b[0;34m\u001b[0m\u001b[0m\n",
      "\u001b[0;31mModuleNotFoundError\u001b[0m: No module named 'mockup'"
     ]
    }
   ],
   "source": [
    "# imports\n",
    "import torch\n",
    "import tensorflow as tf\n",
    "import numpy as np\n",
    "import csv\n",
    "from collections import defaultdict\n",
    "from transformers import AutoTokenizer, AutoModelWithLMHead\n"
   ]
  },
  {
   "cell_type": "code",
   "execution_count": null,
   "id": "4ab32bdc",
   "metadata": {
    "id": "4ab32bdc",
    "outputId": "1e964c75-97ed-4d47-8c1b-ee87e672b589"
   },
   "outputs": [],
   "source": [
    "X = tokenizer(X_text,return_tensors='tf',truncation=True,padding=True).input_ids\n",
    "Y = tokenizer(Y_text,return_tensors='tf',truncation=True,padding=True).input_ids\n",
    "\n",
    "print(X.shape)\n",
    "print(Y.shape)\n",
    "model.compile('adam',loss=tf.keras.losses.SparseCategoricalCrossentropy())\n",
    "\n",
    "model.fit(x={'input_ids':X, 'labels': Y},epochs=2,batch_size=4);"
   ]
  },
  {
   "cell_type": "code",
   "execution_count": null,
   "id": "5bf3be3c",
   "metadata": {},
   "outputs": [],
   "source": []
  }
 ],
 "metadata": {
  "colab": {
   "name": "T5.ipynb",
   "provenance": []
  },
  "kernelspec": {
   "display_name": "env",
   "language": "python",
   "name": "env"
  },
  "language_info": {
   "codemirror_mode": {
    "name": "ipython",
    "version": 3
   },
   "file_extension": ".py",
   "mimetype": "text/x-python",
   "name": "python",
   "nbconvert_exporter": "python",
   "pygments_lexer": "ipython3",
   "version": "3.8.9"
  }
 },
 "nbformat": 4,
 "nbformat_minor": 5
}
