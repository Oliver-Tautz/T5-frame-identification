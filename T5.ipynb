{
 "cells": [
  {
   "cell_type": "code",
   "execution_count": 1,
   "id": "5514df77",
   "metadata": {},
   "outputs": [
    {
     "name": "stderr",
     "output_type": "stream",
     "text": [
      "2021-08-23 19:21:22.156583: W tensorflow/stream_executor/platform/default/dso_loader.cc:64] Could not load dynamic library 'libcudart.so.11.0'; dlerror: libcudart.so.11.0: cannot open shared object file: No such file or directory\n",
      "2021-08-23 19:21:22.156604: I tensorflow/stream_executor/cuda/cudart_stub.cc:29] Ignore above cudart dlerror if you do not have a GPU set up on your machine.\n"
     ]
    }
   ],
   "source": [
    "# imports\n",
    "import torch\n",
    "import tensorflow as tf\n",
    "import numpy as np\n",
    "import csv\n",
    "from collections import defaultdict\n",
    "\n",
    "from transformers import (TFAutoModelWithLMHead, AutoTokenizer, \n",
    "    TFTrainer, TFTrainingArguments, TFT5ForConditionalGeneration, T5Config)\n",
    "\n",
    "from mockup import Argument\n",
    "from transformers import AutoTokenizer, AutoModelWithLMHead\n"
   ]
  },
  {
   "cell_type": "code",
   "execution_count": 2,
   "id": "94ca3b56",
   "metadata": {},
   "outputs": [],
   "source": [
    "# this is taken from \n",
    "# https://colab.research.google.com/github/snapthat/TF-T5-text-to-text/blob/master/snapthatT5/notebooks/TF-T5-Datasets%20Training.ipynb#scrollTo=2xcGqd9qDXOF\n",
    "class identFrameT5(TFT5ForConditionalGeneration):\n",
    "    def __init__(self, *args, log_dir=None, cache_dir= None, **kwargs):\n",
    "        super().__init__(*args, **kwargs)\n",
    "        self.loss_tracker= tf.keras.metrics.Mean(name='loss') \n",
    "    \n",
    "    @tf.function\n",
    "    def train_step(self, data):\n",
    "        print(\"HERE!\")\n",
    "        print(type(data))\n",
    "        print(\"0:\", data[0])\n",
    "        x = data[0]\n",
    "        y = x[\"labels\"]\n",
    "        y = tf.reshape(y, [-1, 1])\n",
    "        with tf.GradientTape() as tape:\n",
    "            outputs = self(x, training=True)\n",
    "            loss = outputs[0]\n",
    "            logits = outputs[1]\n",
    "            loss = tf.reduce_mean(loss)\n",
    "            \n",
    "            grads = tape.gradient(loss, self.trainable_variables)\n",
    "            \n",
    "        self.optimizer.apply_gradients(zip(grads, self.trainable_variables))\n",
    "        lr = self.optimizer._decayed_lr(tf.float32)\n",
    "        \n",
    "        self.loss_tracker.update_state(loss)        \n",
    "        self.compiled_metrics.update_state(y, logits)\n",
    "        metrics = {m.name: m.result() for m in self.metrics}\n",
    "        metrics.update({'lr': lr})\n",
    "        \n",
    "        return metrics\n",
    "\n",
    "    def test_step(self, data):\n",
    "        print(\"HERE2!\")\n",
    "        print(data)\n",
    "        x = data[0]\n",
    "        y = x[\"labels\"]\n",
    "        y = tf.reshape(y, [-1, 1])\n",
    "        output = self(x, training=False)\n",
    "        loss = output[0]\n",
    "        loss = tf.reduce_mean(loss)\n",
    "        logits = output[1]\n",
    "        \n",
    "        self.loss_tracker.update_state(loss)\n",
    "        self.compiled_metrics.update_state(y, logits)\n",
    "        return {m.name: m.result() for m in self.metrics}"
   ]
  },
  {
   "cell_type": "code",
   "execution_count": 3,
   "id": "82fdd8c9",
   "metadata": {},
   "outputs": [],
   "source": [
    "data_csv_filename = \"data/Webis-argument-framing.csv\"\n",
    "file = open(data_csv_filename)\n",
    "dreader = csv.DictReader(file, dialect='unix', delimiter=',', quotechar='\\\"')\n",
    "    \n",
    "args = []\n",
    "topic_frame_mapping = defaultdict(lambda : set())\n",
    "\n",
    "    \n",
    "for row in dreader:\n",
    "    arg = Argument(row['argument_id'], row['frame_id'], row['frame'], row['topic_id'], row['topic'], row['premise'],\n",
    "                   row['stance'], row['conclusion'])\n",
    "    topic_frame_mapping['']\n",
    "    args.append(arg)\n"
   ]
  },
  {
   "cell_type": "code",
   "execution_count": 4,
   "id": "126f815b",
   "metadata": {},
   "outputs": [],
   "source": [
    "X_text = []\n",
    "Y_text = []\n",
    "# simplest X_text\n",
    "\n",
    "for arg in args:\n",
    "    X_text.append(arg.premise + arg.conclusion)\n",
    "    Y_text.append(arg.frame)"
   ]
  },
  {
   "cell_type": "code",
   "execution_count": 5,
   "id": "19c98a6d",
   "metadata": {},
   "outputs": [
    {
     "name": "stdout",
     "output_type": "stream",
     "text": [
      "input: U.S. Treasury Secretary Henry Paulson summarized the rationale for the bailout in testimony before Congress in September, 2008 - \"We must...avoid a continuing series of financial institution failures and frozen credit markets that threaten American families' financial well-being, the viability of businesses both small and large, and the very health of our economy.\"Not passing $700b bailout risks sending economy into major recession \n",
      "\n",
      " output: economics\n"
     ]
    }
   ],
   "source": [
    "print('input:', X_text[0],'\\n\\n','output:', Y_text[1])"
   ]
  },
  {
   "cell_type": "code",
   "execution_count": 6,
   "id": "58ca7050",
   "metadata": {},
   "outputs": [
    {
     "name": "stderr",
     "output_type": "stream",
     "text": [
      "2021-08-23 19:21:29.248589: W tensorflow/stream_executor/platform/default/dso_loader.cc:64] Could not load dynamic library 'libcuda.so.1'; dlerror: libcuda.so.1: cannot open shared object file: No such file or directory\n",
      "2021-08-23 19:21:29.248609: W tensorflow/stream_executor/cuda/cuda_driver.cc:269] failed call to cuInit: UNKNOWN ERROR (303)\n",
      "2021-08-23 19:21:29.248624: I tensorflow/stream_executor/cuda/cuda_diagnostics.cc:156] kernel driver does not appear to be running on this host (lucy): /proc/driver/nvidia/version does not exist\n",
      "2021-08-23 19:21:29.248784: I tensorflow/core/platform/cpu_feature_guard.cc:142] This TensorFlow binary is optimized with oneAPI Deep Neural Network Library (oneDNN) to use the following CPU instructions in performance-critical operations:  AVX2 FMA\n",
      "To enable them in other operations, rebuild TensorFlow with the appropriate compiler flags.\n",
      "2021-08-23 19:21:29.262893: W tensorflow/python/util/util.cc:348] Sets are not currently considered sequences, but this may change in the future, so consider avoiding using them.\n",
      "All model checkpoint layers were used when initializing identFrameT5.\n",
      "\n",
      "All the layers of identFrameT5 were initialized from the model checkpoint at t5-small.\n",
      "If your task is similar to the task the model of the checkpoint was trained on, you can already use identFrameT5 for predictions without further training.\n"
     ]
    }
   ],
   "source": [
    "# setup t5\n",
    "# this uses 'PreTrainedTokenizerFast' and 't5.TFT5ForConditionalGeneration' objects.\n",
    "tokenizer = AutoTokenizer.from_pretrained(\"t5-small\")\n",
    "model = identFrameT5.from_pretrained(\"t5-small\")"
   ]
  },
  {
   "cell_type": "code",
   "execution_count": 7,
   "id": "0a630f7b",
   "metadata": {},
   "outputs": [
    {
     "data": {
      "text/plain": [
       "'<pad><extra_id_0> - \"We must...avoid a continuing series of financial institution failures\" not passing $700b bailout risks sending economy into major recession . not passing $700b bailout risks sending economy into major recession .</s>'"
      ]
     },
     "execution_count": 7,
     "metadata": {},
     "output_type": "execute_result"
    }
   ],
   "source": [
    "# test t5\n",
    "inputs = tokenizer(X_text[0],return_tensors='tf').input_ids\n",
    "labels = tokenizer(Y_text[0],return_tensors='tf').input_ids\n",
    "outputs = model.generate(inputs,max_length = 1000)\n",
    "tokens = tokenizer.convert_ids_to_tokens(outputs[0])\n",
    "tokenizer.convert_tokens_to_string(tokens)"
   ]
  },
  {
   "cell_type": "code",
   "execution_count": 8,
   "id": "debf82b0",
   "metadata": {},
   "outputs": [],
   "source": [
    "#outs = model(inputs,labels=labels)\n",
    "#print(inputs.shape)\n",
    "#print(labels.shape)\n",
    "#print(outs.logits.shape)\n",
    "#np.mean(outs.loss)"
   ]
  },
  {
   "cell_type": "code",
   "execution_count": 9,
   "id": "4ab32bdc",
   "metadata": {},
   "outputs": [
    {
     "name": "stdout",
     "output_type": "stream",
     "text": [
      "(10, 512)\n",
      "(10, 24)\n",
      "Epoch 1/10\n"
     ]
    },
    {
     "name": "stderr",
     "output_type": "stream",
     "text": [
      "2021-08-23 19:21:36.515290: I tensorflow/compiler/mlir/mlir_graph_optimization_pass.cc:185] None of the MLIR Optimization Passes are enabled (registered 2)\n"
     ]
    },
    {
     "name": "stdout",
     "output_type": "stream",
     "text": [
      "HERE!\n",
      "<class 'tuple'>\n",
      "0: {'input_ids': <tf.Tensor 'data:0' shape=(None, 512) dtype=int32>, 'labels': <tf.Tensor 'data_1:0' shape=(None, 24) dtype=int32>}\n",
      "WARNING:tensorflow:The parameters `output_attentions`, `output_hidden_states` and `use_cache` cannot be updated when calling a model.They have to be set to True/False in the config object (i.e.: `config=XConfig.from_pretrained('name', output_attentions=True)`).\n",
      "WARNING:tensorflow:AutoGraph could not transform <bound method Socket.send of <zmq.Socket(zmq.PUSH) at 0x7f665c3e3400>> and will run it as-is.\n",
      "Please report this to the TensorFlow team. When filing the bug, set the verbosity to 10 (on Linux, `export AUTOGRAPH_VERBOSITY=10`) and attach the full output.\n",
      "Cause: module, class, method, function, traceback, frame, or code object was expected, got cython_function_or_method\n",
      "To silence this warning, decorate the function with @tf.autograph.experimental.do_not_convert\n",
      "WARNING: AutoGraph could not transform <bound method Socket.send of <zmq.Socket(zmq.PUSH) at 0x7f665c3e3400>> and will run it as-is.\n",
      "Please report this to the TensorFlow team. When filing the bug, set the verbosity to 10 (on Linux, `export AUTOGRAPH_VERBOSITY=10`) and attach the full output.\n",
      "Cause: module, class, method, function, traceback, frame, or code object was expected, got cython_function_or_method\n",
      "To silence this warning, decorate the function with @tf.autograph.experimental.do_not_convert\n",
      "WARNING:tensorflow:The parameter `return_dict` cannot be set in graph mode and will always be set to `True`.\n",
      "WARNING:tensorflow:The parameters `output_attentions`, `output_hidden_states` and `use_cache` cannot be updated when calling a model.They have to be set to True/False in the config object (i.e.: `config=XConfig.from_pretrained('name', output_attentions=True)`).\n",
      "WARNING:tensorflow:The parameter `return_dict` cannot be set in graph mode and will always be set to `True`.\n",
      "HERE!\n",
      "<class 'tuple'>\n",
      "0: {'input_ids': <tf.Tensor 'data:0' shape=(None, 512) dtype=int32>, 'labels': <tf.Tensor 'data_1:0' shape=(None, 24) dtype=int32>}\n",
      "WARNING:tensorflow:The parameters `output_attentions`, `output_hidden_states` and `use_cache` cannot be updated when calling a model.They have to be set to True/False in the config object (i.e.: `config=XConfig.from_pretrained('name', output_attentions=True)`).\n",
      "WARNING:tensorflow:The parameter `return_dict` cannot be set in graph mode and will always be set to `True`.\n",
      "WARNING:tensorflow:The parameters `output_attentions`, `output_hidden_states` and `use_cache` cannot be updated when calling a model.They have to be set to True/False in the config object (i.e.: `config=XConfig.from_pretrained('name', output_attentions=True)`).\n",
      "WARNING:tensorflow:The parameter `return_dict` cannot be set in graph mode and will always be set to `True`.\n",
      "1/1 [==============================] - 25s 25s/step - loss: 3.7254 - lr: 0.0010\n",
      "Epoch 2/10\n",
      "1/1 [==============================] - 5s 5s/step - loss: 2.6111 - lr: 0.0010\n",
      "Epoch 3/10\n",
      "1/1 [==============================] - 5s 5s/step - loss: 2.6341 - lr: 0.0010\n",
      "Epoch 4/10\n",
      "1/1 [==============================] - 5s 5s/step - loss: 1.6051 - lr: 0.0010\n",
      "Epoch 5/10\n",
      "1/1 [==============================] - 5s 5s/step - loss: 1.6832 - lr: 0.0010\n",
      "Epoch 6/10\n",
      "1/1 [==============================] - 5s 5s/step - loss: 1.6816 - lr: 0.0010\n",
      "Epoch 7/10\n",
      "1/1 [==============================] - 5s 5s/step - loss: 1.0140 - lr: 0.0010\n",
      "Epoch 8/10\n",
      "1/1 [==============================] - 5s 5s/step - loss: 0.8548 - lr: 0.0010\n",
      "Epoch 9/10\n",
      "1/1 [==============================] - 5s 5s/step - loss: 0.5662 - lr: 0.0010\n",
      "Epoch 10/10\n",
      "1/1 [==============================] - 5s 5s/step - loss: 0.4728 - lr: 0.0010\n"
     ]
    }
   ],
   "source": [
    "X = tokenizer(X_text,return_tensors='tf',truncation=True,padding=True).input_ids[0:10]\n",
    "Y = tokenizer(Y_text,return_tensors='tf',truncation=True,padding=True).input_ids[0:10]\n",
    "\n",
    "print(X.shape)\n",
    "print(Y.shape)\n",
    "model.compile('adam',loss=tf.keras.losses.SparseCategoricalCrossentropy())\n",
    "\n",
    "model.fit(x={'input_ids':X, 'labels': Y},epochs=10);"
   ]
  }
 ],
 "metadata": {
  "kernelspec": {
   "display_name": "env",
   "language": "python",
   "name": "env"
  },
  "language_info": {
   "codemirror_mode": {
    "name": "ipython",
    "version": 3
   },
   "file_extension": ".py",
   "mimetype": "text/x-python",
   "name": "python",
   "nbconvert_exporter": "python",
   "pygments_lexer": "ipython3",
   "version": "3.8.9"
  }
 },
 "nbformat": 4,
 "nbformat_minor": 5
}
