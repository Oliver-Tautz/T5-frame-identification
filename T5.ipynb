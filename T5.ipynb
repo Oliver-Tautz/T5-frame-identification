{
 "cells": [
  {
   "cell_type": "code",
   "execution_count": 1,
   "id": "5514df77",
   "metadata": {},
   "outputs": [
    {
     "name": "stderr",
     "output_type": "stream",
     "text": [
      "2021-08-23 12:55:17.784547: W tensorflow/stream_executor/platform/default/dso_loader.cc:64] Could not load dynamic library 'libcudart.so.11.0'; dlerror: libcudart.so.11.0: cannot open shared object file: No such file or directory\n",
      "2021-08-23 12:55:17.784569: I tensorflow/stream_executor/cuda/cudart_stub.cc:29] Ignore above cudart dlerror if you do not have a GPU set up on your machine.\n"
     ]
    }
   ],
   "source": [
    "# imports\n",
    "import torch\n",
    "import tensorflow as tf\n",
    "import numpy as np\n",
    "import csv\n",
    "from collections import defaultdict\n",
    "\n",
    "from transformers import (TFAutoModelWithLMHead, AutoTokenizer, \n",
    "    TFTrainer, TFTrainingArguments, TFT5ForConditionalGeneration, T5Config)\n",
    "\n",
    "from mockup import Argument\n",
    "from transformers import AutoTokenizer, AutoModelWithLMHead\n"
   ]
  },
  {
   "cell_type": "code",
   "execution_count": 2,
   "id": "82fdd8c9",
   "metadata": {},
   "outputs": [],
   "source": [
    "data_csv_filename = \"data/Webis-argument-framing.csv\"\n",
    "file = open(data_csv_filename)\n",
    "dreader = csv.DictReader(file, dialect='unix', delimiter=',', quotechar='\\\"')\n",
    "    \n",
    "args = []\n",
    "topic_frame_mapping = defaultdict(lambda : set())\n",
    "\n",
    "    \n",
    "for row in dreader:\n",
    "    arg = Argument(row['argument_id'], row['frame_id'], row['frame'], row['topic_id'], row['topic'], row['premise'],\n",
    "                   row['stance'], row['conclusion'])\n",
    "    topic_frame_mapping['']\n",
    "    args.append(arg)\n"
   ]
  },
  {
   "cell_type": "code",
   "execution_count": 3,
   "id": "126f815b",
   "metadata": {},
   "outputs": [],
   "source": [
    "X_text = []\n",
    "Y_text = []\n",
    "# simplest X_text\n",
    "\n",
    "for arg in args:\n",
    "    X_text.append(arg.premise + arg.conclusion)\n",
    "    Y_text.append(arg.frame)"
   ]
  },
  {
   "cell_type": "code",
   "execution_count": 4,
   "id": "19c98a6d",
   "metadata": {},
   "outputs": [
    {
     "name": "stdout",
     "output_type": "stream",
     "text": [
      "input: U.S. Treasury Secretary Henry Paulson summarized the rationale for the bailout in testimony before Congress in September, 2008 - \"We must...avoid a continuing series of financial institution failures and frozen credit markets that threaten American families' financial well-being, the viability of businesses both small and large, and the very health of our economy.\"Not passing $700b bailout risks sending economy into major recession \n",
      "\n",
      " output: economics\n"
     ]
    }
   ],
   "source": [
    "print('input:', X_text[0],'\\n\\n','output:', Y_text[1])"
   ]
  },
  {
   "cell_type": "code",
   "execution_count": 5,
   "id": "58ca7050",
   "metadata": {},
   "outputs": [
    {
     "data": {
      "application/vnd.jupyter.widget-view+json": {
       "model_id": "ab8056524b5d43f9b0c1488fb476d926",
       "version_major": 2,
       "version_minor": 0
      },
      "text/plain": [
       "Downloading:   0%|          | 0.00/1.20k [00:00<?, ?B/s]"
      ]
     },
     "metadata": {},
     "output_type": "display_data"
    },
    {
     "data": {
      "application/vnd.jupyter.widget-view+json": {
       "model_id": "e9c3833fd1ab4ee691c1f75f5f729822",
       "version_major": 2,
       "version_minor": 0
      },
      "text/plain": [
       "Downloading:   0%|          | 0.00/792k [00:00<?, ?B/s]"
      ]
     },
     "metadata": {},
     "output_type": "display_data"
    },
    {
     "data": {
      "application/vnd.jupyter.widget-view+json": {
       "model_id": "ea5b2f2e65e841dcbf494607718399ce",
       "version_major": 2,
       "version_minor": 0
      },
      "text/plain": [
       "Downloading:   0%|          | 0.00/1.39M [00:00<?, ?B/s]"
      ]
     },
     "metadata": {},
     "output_type": "display_data"
    },
    {
     "name": "stderr",
     "output_type": "stream",
     "text": [
      "/home/olli/gits/T5-frame-identification/env/lib/python3.8/site-packages/transformers/models/auto/modeling_tf_auto.py:589: FutureWarning: The class `TFAutoModelWithLMHead` is deprecated and will be removed in a future version. Please use `TFAutoModelForCausalLM` for causal language models, `TFAutoModelForMaskedLM` for masked language models and `TFAutoModelForSeq2SeqLM` for encoder-decoder models.\n",
      "  warnings.warn(\n"
     ]
    },
    {
     "data": {
      "application/vnd.jupyter.widget-view+json": {
       "model_id": "60796cbf49984cea81acddc7d618a938",
       "version_major": 2,
       "version_minor": 0
      },
      "text/plain": [
       "Downloading:   0%|          | 0.00/892M [00:00<?, ?B/s]"
      ]
     },
     "metadata": {},
     "output_type": "display_data"
    },
    {
     "name": "stderr",
     "output_type": "stream",
     "text": [
      "2021-08-23 12:56:25.945155: W tensorflow/stream_executor/platform/default/dso_loader.cc:64] Could not load dynamic library 'libcuda.so.1'; dlerror: libcuda.so.1: cannot open shared object file: No such file or directory\n",
      "2021-08-23 12:56:25.945178: W tensorflow/stream_executor/cuda/cuda_driver.cc:269] failed call to cuInit: UNKNOWN ERROR (303)\n",
      "2021-08-23 12:56:25.945196: I tensorflow/stream_executor/cuda/cuda_diagnostics.cc:156] kernel driver does not appear to be running on this host (lucy): /proc/driver/nvidia/version does not exist\n",
      "2021-08-23 12:56:25.945539: I tensorflow/core/platform/cpu_feature_guard.cc:142] This TensorFlow binary is optimized with oneAPI Deep Neural Network Library (oneDNN) to use the following CPU instructions in performance-critical operations:  AVX2 FMA\n",
      "To enable them in other operations, rebuild TensorFlow with the appropriate compiler flags.\n",
      "2021-08-23 12:56:25.960819: W tensorflow/python/util/util.cc:348] Sets are not currently considered sequences, but this may change in the future, so consider avoiding using them.\n",
      "All model checkpoint layers were used when initializing TFT5ForConditionalGeneration.\n",
      "\n",
      "All the layers of TFT5ForConditionalGeneration were initialized from the model checkpoint at t5-base.\n",
      "If your task is similar to the task the model of the checkpoint was trained on, you can already use TFT5ForConditionalGeneration for predictions without further training.\n"
     ]
    },
    {
     "name": "stdout",
     "output_type": "stream",
     "text": [
      "PreTrainedTokenizerFast(name_or_path='t5-base', vocab_size=32100, model_max_len=512, is_fast=True, padding_side='right', special_tokens={'eos_token': '</s>', 'unk_token': '<unk>', 'pad_token': '<pad>', 'additional_special_tokens': ['<extra_id_0>', '<extra_id_1>', '<extra_id_2>', '<extra_id_3>', '<extra_id_4>', '<extra_id_5>', '<extra_id_6>', '<extra_id_7>', '<extra_id_8>', '<extra_id_9>', '<extra_id_10>', '<extra_id_11>', '<extra_id_12>', '<extra_id_13>', '<extra_id_14>', '<extra_id_15>', '<extra_id_16>', '<extra_id_17>', '<extra_id_18>', '<extra_id_19>', '<extra_id_20>', '<extra_id_21>', '<extra_id_22>', '<extra_id_23>', '<extra_id_24>', '<extra_id_25>', '<extra_id_26>', '<extra_id_27>', '<extra_id_28>', '<extra_id_29>', '<extra_id_30>', '<extra_id_31>', '<extra_id_32>', '<extra_id_33>', '<extra_id_34>', '<extra_id_35>', '<extra_id_36>', '<extra_id_37>', '<extra_id_38>', '<extra_id_39>', '<extra_id_40>', '<extra_id_41>', '<extra_id_42>', '<extra_id_43>', '<extra_id_44>', '<extra_id_45>', '<extra_id_46>', '<extra_id_47>', '<extra_id_48>', '<extra_id_49>', '<extra_id_50>', '<extra_id_51>', '<extra_id_52>', '<extra_id_53>', '<extra_id_54>', '<extra_id_55>', '<extra_id_56>', '<extra_id_57>', '<extra_id_58>', '<extra_id_59>', '<extra_id_60>', '<extra_id_61>', '<extra_id_62>', '<extra_id_63>', '<extra_id_64>', '<extra_id_65>', '<extra_id_66>', '<extra_id_67>', '<extra_id_68>', '<extra_id_69>', '<extra_id_70>', '<extra_id_71>', '<extra_id_72>', '<extra_id_73>', '<extra_id_74>', '<extra_id_75>', '<extra_id_76>', '<extra_id_77>', '<extra_id_78>', '<extra_id_79>', '<extra_id_80>', '<extra_id_81>', '<extra_id_82>', '<extra_id_83>', '<extra_id_84>', '<extra_id_85>', '<extra_id_86>', '<extra_id_87>', '<extra_id_88>', '<extra_id_89>', '<extra_id_90>', '<extra_id_91>', '<extra_id_92>', '<extra_id_93>', '<extra_id_94>', '<extra_id_95>', '<extra_id_96>', '<extra_id_97>', '<extra_id_98>', '<extra_id_99>']}) <transformers.models.t5.modeling_tf_t5.TFT5ForConditionalGeneration object at 0x7f37983c43d0>\n"
     ]
    }
   ],
   "source": [
    "# setup t5\n",
    "# this uses 'PreTrainedTokenizerFast' and 't5.TFT5ForConditionalGeneration' objects.\n",
    "tokenizer = AutoTokenizer.from_pretrained(\"t5-small\")\n",
    "model = TFAutoModelWithLMHead.from_pretrained(\"t5-small\")\n",
    "print(tokenizer,model)"
   ]
  },
  {
   "cell_type": "code",
   "execution_count": 6,
   "id": "0a630f7b",
   "metadata": {},
   "outputs": [
    {
     "data": {
      "text/plain": [
       "'<pad><extra_id_0> in a statement before Congress in September, 2008 - \"We must...avoid a continuing series of financial institution failures and frozen credit markets that threaten American families\\' financial well-being, the viability of businesses both small and large,\" he said. \"We must...avoid a continuing series of financial institution failures and frozen credit markets that threaten American families\\' financial well-being,\" he said.</s>'"
      ]
     },
     "execution_count": 6,
     "metadata": {},
     "output_type": "execute_result"
    }
   ],
   "source": [
    "# test t5\n",
    "inputs = tokenizer(X_text[0],return_tensors='tf').input_ids\n",
    "labels = tokenizer(Y_text[0],return_tensors='tf').input_ids\n",
    "outputs = model.generate(inputs,max_length = 1000)\n",
    "tokens = tokenizer.convert_ids_to_tokens(outputs[0])\n",
    "tokenizer.convert_tokens_to_string(tokens)"
   ]
  },
  {
   "cell_type": "code",
   "execution_count": 7,
   "id": "debf82b0",
   "metadata": {},
   "outputs": [
    {
     "data": {
      "text/plain": [
       "13.7461405"
      ]
     },
     "execution_count": 7,
     "metadata": {},
     "output_type": "execute_result"
    }
   ],
   "source": [
    "outs = model(inputs,labels=labels)\n",
    "np.mean(outs.loss)"
   ]
  },
  {
   "cell_type": "code",
   "execution_count": null,
   "id": "4ab32bdc",
   "metadata": {},
   "outputs": [],
   "source": [
    "X = tokenizer(X_text,return_tensors='tf',truncation=True,padding=True).input_ids\n",
    "Y = tokenizer(Y_text,return_tensors='tf',truncation=True,padding=True).input_ids\n",
    "\n",
    "print(X.shape)\n",
    "print(Y.shape)\n",
    "model.compile('adam',loss='sparse_categorical_crossentropy')\n",
    "model.fit({'input_ids':X,'decoder_input_ids':X},Y,epochs=3)"
   ]
  }
 ],
 "metadata": {
  "kernelspec": {
   "display_name": "env",
   "language": "python",
   "name": "env"
  },
  "language_info": {
   "codemirror_mode": {
    "name": "ipython",
    "version": 3
   },
   "file_extension": ".py",
   "mimetype": "text/x-python",
   "name": "python",
   "nbconvert_exporter": "python",
   "pygments_lexer": "ipython3",
   "version": "3.8.9"
  }
 },
 "nbformat": 4,
 "nbformat_minor": 5
}
